{
 "cells": [
  {
   "cell_type": "code",
   "execution_count": 1,
   "metadata": {},
   "outputs": [
    {
     "name": "stdout",
     "output_type": "stream",
     "text": [
      "ebe46577-3c66-417e-ac9e-7a7305f18667\n",
      "Image saved as 071124_145347.png\n",
      "post_photo: {\"id\":\"071124_145347\",\"visit_id\":\"071124\",\"task_id\":null,\"task_name\":null,\"scene_id\":\"1\",\"user_id\":36772,\"scene\":{\"id\":\"1\",\"type_id\":null,\"type_name\":null},\"state\":\"new\",\"photo_number\":1,\"kma\":null,\"photo_options\":{\"blur\":0,\"tilt_angle_error\":0,\"geolocation_error\":0},\"focus_distance\":null,\"dt_create\":\"2024-11-07T13:53:54.740667\",\"processing_at\":\"2024-11-07T13:53:54.740667\",\"completed_at\":null,\"assortment\":[],\"products\":[],\"realogram\":[],\"prices\":[],\"shelves\":[],\"support_sku\":null,\"external_id\":null,\"server_storage_pass\":\"/api/photo_raw/2024/11/07/071124/2024-11-07-13-53-53-8052-o.jpg\",\"is_quality_error\":0,\"is_quality_error_approved\":0,\"file_exist\":false,\"width\":2105,\"height\":1080,\"db_id\":\"672cc67286f45fc9145e9141\"}\n"
     ]
    },
    {
     "data": {
      "text/plain": [
       "{'id': '071124_145347',\n",
       " 'visit_id': '071124',\n",
       " 'task_id': None,\n",
       " 'task_name': None,\n",
       " 'scene_id': '1',\n",
       " 'user_id': 36772,\n",
       " 'scene': {'id': '1', 'type_id': None, 'type_name': None},\n",
       " 'state': 'new',\n",
       " 'photo_number': 1,\n",
       " 'kma': None,\n",
       " 'photo_options': {'blur': 0, 'tilt_angle_error': 0, 'geolocation_error': 0},\n",
       " 'focus_distance': None,\n",
       " 'dt_create': '2024-11-07T13:53:54.740667',\n",
       " 'processing_at': '2024-11-07T13:53:54.740667',\n",
       " 'completed_at': None,\n",
       " 'assortment': [],\n",
       " 'products': [],\n",
       " 'realogram': [],\n",
       " 'prices': [],\n",
       " 'shelves': [],\n",
       " 'support_sku': None,\n",
       " 'external_id': None,\n",
       " 'server_storage_pass': '/api/photo_raw/2024/11/07/071124/2024-11-07-13-53-53-8052-o.jpg',\n",
       " 'is_quality_error': 0,\n",
       " 'is_quality_error_approved': 0,\n",
       " 'file_exist': False,\n",
       " 'width': 2105,\n",
       " 'height': 1080,\n",
       " 'db_id': '672cc67286f45fc9145e9141'}"
      ]
     },
     "execution_count": 1,
     "metadata": {},
     "output_type": "execute_result"
    }
   ],
   "source": [
    "from ailet_api import *\n",
    "from utils import *\n",
    "\n",
    "token = auth_login(\"efrobotics.poc\", \"efrobotics1\")\n",
    "\n",
    "print(token)\n",
    "\n",
    "imagename = get_timestamp() \n",
    "capture_image(filename=imagename)\n",
    "post_photo(token=token, photo_id=imagename)\n",
    "# remove_file(f\"images/{imagename}.png\")"
   ]
  }
 ],
 "metadata": {
  "kernelspec": {
   "display_name": "Python 3",
   "language": "python",
   "name": "python3"
  },
  "language_info": {
   "codemirror_mode": {
    "name": "ipython",
    "version": 3
   },
   "file_extension": ".py",
   "mimetype": "text/x-python",
   "name": "python",
   "nbconvert_exporter": "python",
   "pygments_lexer": "ipython3",
   "version": "3.12.3"
  }
 },
 "nbformat": 4,
 "nbformat_minor": 2
}
