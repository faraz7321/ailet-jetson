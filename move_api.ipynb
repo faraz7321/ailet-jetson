{
 "cells": [
  {
   "cell_type": "code",
   "execution_count": null,
   "metadata": {},
   "outputs": [],
   "source": [
    "from move import *"
   ]
  },
  {
   "cell_type": "code",
   "execution_count": null,
   "metadata": {},
   "outputs": [],
   "source": [
    "action_params = MoveAction(type=\"standard\", x=10, y=15, z=0)\n",
    "create_move_action(action_params, auth_token=None)\n"
   ]
  },
  {
   "cell_type": "code",
   "execution_count": null,
   "metadata": {},
   "outputs": [
    {
     "name": "stdout",
     "output_type": "stream",
     "text": [
      "a93dd1f4-932c-4c54-b528-34cdbb2f233b\n",
      "Found camera path: /dev/v4l/by-id/usb-NOVATEK_Berxel_iHawk100_HK100QB3508P1151-video-index0\n",
      "Image saved as 061124_131007\n",
      "<bound method Response.json of <Response [405]>>\n"
     ]
    },
    {
     "data": {
      "text/plain": [
       "{'detail': 'Method Not Allowed'}"
      ]
     },
     "execution_count": 1,
     "metadata": {},
     "output_type": "execute_result"
    }
   ],
   "source": [
    "from ailet_api import *\n",
    "from utils import *\n",
    "\n",
    "token = auth_login(\"efrobotics.poc\", \"efrobotics1\")\n",
    "\n",
    "print(token)\n",
    "\n",
    "imagename = get_timestamp() \n",
    "capture_image(filename=imagename)\n",
    "post_photo(token=token, photo_id=imagename)\n",
    "remove_file(f\"images/{imagename}.png\")"
   ]
  }
 ],
 "metadata": {
  "kernelspec": {
   "display_name": "Python 3",
   "language": "python",
   "name": "python3"
  },
  "language_info": {
   "codemirror_mode": {
    "name": "ipython",
    "version": 3
   },
   "file_extension": ".py",
   "mimetype": "text/x-python",
   "name": "python",
   "nbconvert_exporter": "python",
   "pygments_lexer": "ipython3",
   "version": "3.12.3"
  }
 },
 "nbformat": 4,
 "nbformat_minor": 2
}
